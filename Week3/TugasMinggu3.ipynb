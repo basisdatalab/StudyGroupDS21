{
  "nbformat": 4,
  "nbformat_minor": 0,
  "metadata": {
    "colab": {
      "name": "TugasMinggu3.ipynb",
      "provenance": []
    },
    "kernelspec": {
      "name": "python3",
      "display_name": "Python 3"
    },
    "language_info": {
      "name": "python"
    }
  },
  "cells": [
    {
      "cell_type": "code",
      "metadata": {
        "id": "Bwl_nAnYjK5t"
      },
      "source": [
        "import pandas as pd\n",
        "import numpy as np\n",
        "\n"
      ],
      "execution_count": 2,
      "outputs": []
    },
    {
      "cell_type": "markdown",
      "metadata": {
        "id": "v44olbRKm_-C"
      },
      "source": [
        "# DEADLINE RABU : 18 Agustus 2021 22.00 WIB\n",
        "\n",
        "# LINK pengumpulan : https://forms.gle/uUqmYhXqwjjhoAnc9"
      ]
    },
    {
      "cell_type": "markdown",
      "metadata": {
        "id": "r320yn-Ejr8N"
      },
      "source": [
        "Tugas Klean , Gunakan Dataset ini saja\n",
        "\n",
        "1. Ada berapa penumpang yang berada dalam kapal ?\n",
        "\n",
        "2. Coba liat Kolom SibSp dan parch ,feature apa yang bisa kalian adakan, Bisa dapet 2/3/4 fitur tambahan ?\n",
        "\n",
        "3. Ada kolom Fare kan, bisa ga kalian mendapatkan informasi biaya per penumpang ,liat fare dan jawaban no 3 kalian"
      ]
    },
    {
      "cell_type": "code",
      "metadata": {
        "id": "qnsf9agrjW-l"
      },
      "source": [
        "df = pd.read_csv(\"https://raw.githubusercontent.com/basisdatalab/StudyGroupDS21/main/Week3/train_titanic.csv\")"
      ],
      "execution_count": 3,
      "outputs": []
    },
    {
      "cell_type": "markdown",
      "metadata": {
        "id": "YD0_I10zj1E3"
      },
      "source": [
        "# Clue 1 : Ez ini, bisa lah gausah aku kasih clue "
      ]
    },
    {
      "cell_type": "code",
      "metadata": {
        "id": "aaCRqwXCj9EB"
      },
      "source": [
        "### Gunakan Cell ini untuk jawab nomor 1 ya ####"
      ],
      "execution_count": null,
      "outputs": []
    },
    {
      "cell_type": "markdown",
      "metadata": {
        "id": "O0XOPXgakCbf"
      },
      "source": [
        "# Clue 2 : Pahamin dlu kedua kolom SibSp dan parch itu apa , Kalau udah coba pikirkan , apakah bisa dibentuk fitur yang baru ? bisa dalam bentuk Boolean/Numerical/Kategorikal , Gunakan Critical Thinking Kalian"
      ]
    },
    {
      "cell_type": "code",
      "metadata": {
        "id": "1XtKzsT9kf3L"
      },
      "source": [
        "### Gunakan cell ini untuk jawab nomor 2 ya####\n",
        "### Kalau mau tuangkan analisa kalian, Silahkan tulis saja disini ####"
      ],
      "execution_count": null,
      "outputs": []
    },
    {
      "cell_type": "markdown",
      "metadata": {
        "id": "ZaWo5BXNktZo"
      },
      "source": [
        "# Clue 3 : Aku punya permen 10 , aku ingin bagikan kepada 5 teman ku, masing masing teman ku dapet berapa ?? Coba hubungkan dengan Task 3 , acuan kalian Jawaban Nomor 2"
      ]
    },
    {
      "cell_type": "code",
      "metadata": {
        "id": "qq9SOmcUlBu4"
      },
      "source": [
        "### Gunakan cell ini untuk jawab nomor 3 ya####\n",
        "### Kalau mau tuangkan analisa kalian, Silahkan tulis saja disini ####"
      ],
      "execution_count": null,
      "outputs": []
    },
    {
      "cell_type": "markdown",
      "metadata": {
        "id": "gzmcLo_GlFBO"
      },
      "source": [
        "Usahakan Untuk dapat menyelesaikannya, aku tau kalian sibuk, jadi aku minta waktunya sebentar aja untuk ngerjain tugas, lagian kalian dapat new insight kalau dapat menyelesaikan task ini :v\n",
        "\n",
        "Kalau bingung, TANYA aku yaa, di Discord , jangan di Line, sering tenggelem :v"
      ]
    }
  ]
}